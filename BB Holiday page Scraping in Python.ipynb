{
    "cells": [
        {
            "cell_type": "markdown",
            "metadata": {
                "collapsed": true
            },
            "source": "# Web Scraping in Python"
        },
        {
            "cell_type": "code",
            "execution_count": 48,
            "metadata": {},
            "outputs": [],
            "source": "# FIND BANGLADESH PUBLIC HOLIDAY"
        },
        {
            "cell_type": "code",
            "execution_count": 47,
            "metadata": {},
            "outputs": [],
            "source": "#URL: https://www.bb.org.bd/mediaroom/holiday.php\n#URL : https://www.officeholidays.com/countries/bangladesh"
        },
        {
            "cell_type": "code",
            "execution_count": 44,
            "metadata": {},
            "outputs": [],
            "source": "import requests\n\n# Set headers\nheaders = requests.utils.default_headers()\nheaders.update({ 'User-Agent': 'Mozilla/5.0 (X11; Ubuntu; Linux x86_64; rv:52.0) Gecko/20100101 Firefox/52.0'})"
        },
        {
            "cell_type": "code",
            "execution_count": 45,
            "metadata": {},
            "outputs": [
                {
                    "name": "stdout",
                    "output_type": "stream",
                    "text": " List of Holidays in Bangladesh in 2020\n"
                }
            ],
            "source": "from bs4 import BeautifulSoup\nurl = \"https://www.officeholidays.com/countries/bangladesh\"\nreq = requests.get(url, headers)\nsoup = BeautifulSoup(req.content, 'html.parser')\nfindString='List of Holidays in Bangladesh in'\nh2 = soup.find_all('h2')\nh2Content=[m.text for m in h2]\nfor i in range(len(h2Content)):\n    #print(h2Content[i])\n    res=findString in h2Content[i]\n    if(res==True):\n        print(h2Content[i])\n\n\n"
        },
        {
            "cell_type": "code",
            "execution_count": 46,
            "metadata": {},
            "outputs": [
                {
                    "name": "stdout",
                    "output_type": "stream",
                    "text": "Feb 21-Language Martyrs' Day\nMar 17-Sheikh Mujibur Rahman's birthday\nMar 26-Independence Day\nApr 09-Shab e-Barat\nApr 14-Bengali New Year\nMay 01-Labour Day\nMay 07-Buddha Purnima\nMay 20-Night of Destiny\nMay 22-Jumatul Bidah\nMay 24-Eid al-Fitr\nMay 25-Eid al-Fitr Holiday\nMay 26-Eid al-Fitr Holiday\nJul 31-Eid-ul-Azha\nAug 01-Eid-ul-Azha Holiday\nAug 02-Eid-ul-Azha Holiday\nAug 11-Janmashtami\nAug 15-National Mourning Day\nAug 29-Ashura\nOct 25-Durga Puja\nOct 29-Maulud Nabi\nDec 16-Victory Day\nDec 25-Christmas Day\n"
                }
            ],
            "source": "table = soup.find('table')\ntable_rows = table.find_all('tr')\nfor tr in table_rows:\n    td = tr.find_all('td')\n    row = [i.text for i in td]\n    #print(row)\n    for i in range(len(row)):\n        if(i==1):\n            print(row[1] ,end =\"-\")\n        if(i==2):\n            print(row[2])\n        "
        }
    ],
    "metadata": {
        "kernelspec": {
            "display_name": "Python 3.6",
            "language": "python",
            "name": "python3"
        },
        "language_info": {
            "codemirror_mode": {
                "name": "ipython",
                "version": 3
            },
            "file_extension": ".py",
            "mimetype": "text/x-python",
            "name": "python",
            "nbconvert_exporter": "python",
            "pygments_lexer": "ipython3",
            "version": "3.6.9"
        }
    },
    "nbformat": 4,
    "nbformat_minor": 1
}